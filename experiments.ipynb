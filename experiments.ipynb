{
 "cells": [
  {
   "cell_type": "code",
   "execution_count": 52,
   "metadata": {},
   "outputs": [],
   "source": [
    "from main import *\n",
    "import pandas as pd\n",
    "from matplotlib import pyplot as plt\n",
    "\n",
    "data = Data(\"data\", \"london\")"
   ]
  },
  {
   "cell_type": "code",
   "execution_count": 53,
   "metadata": {},
   "outputs": [
    {
     "name": "stdout",
     "output_type": "stream",
     "text": [
      "Stations with most lines\n"
     ]
    },
    {
     "data": {
      "text/html": [
       "<div>\n",
       "<style scoped>\n",
       "    .dataframe tbody tr th:only-of-type {\n",
       "        vertical-align: middle;\n",
       "    }\n",
       "\n",
       "    .dataframe tbody tr th {\n",
       "        vertical-align: top;\n",
       "    }\n",
       "\n",
       "    .dataframe thead th {\n",
       "        text-align: right;\n",
       "    }\n",
       "</style>\n",
       "<table border=\"1\" class=\"dataframe\">\n",
       "  <thead>\n",
       "    <tr style=\"text-align: right;\">\n",
       "      <th></th>\n",
       "      <th>latitude</th>\n",
       "      <th>longitude</th>\n",
       "      <th>name</th>\n",
       "      <th>display_name</th>\n",
       "      <th>zone</th>\n",
       "      <th>total_lines</th>\n",
       "      <th>rail</th>\n",
       "    </tr>\n",
       "    <tr>\n",
       "      <th>id</th>\n",
       "      <th></th>\n",
       "      <th></th>\n",
       "      <th></th>\n",
       "      <th></th>\n",
       "      <th></th>\n",
       "      <th></th>\n",
       "      <th></th>\n",
       "    </tr>\n",
       "  </thead>\n",
       "  <tbody>\n",
       "    <tr>\n",
       "      <th>145</th>\n",
       "      <td>51.5308</td>\n",
       "      <td>-0.1238</td>\n",
       "      <td>King's Cross St. Pancras</td>\n",
       "      <td>King's Cross&lt;br /&gt;St. Pancras</td>\n",
       "      <td>1.0</td>\n",
       "      <td>6</td>\n",
       "      <td>1</td>\n",
       "    </tr>\n",
       "    <tr>\n",
       "      <th>11</th>\n",
       "      <td>51.5226</td>\n",
       "      <td>-0.1571</td>\n",
       "      <td>Baker Street</td>\n",
       "      <td>Baker&lt;br /&gt;Street</td>\n",
       "      <td>1.0</td>\n",
       "      <td>5</td>\n",
       "      <td>0</td>\n",
       "    </tr>\n",
       "    <tr>\n",
       "      <th>13</th>\n",
       "      <td>51.5133</td>\n",
       "      <td>-0.0886</td>\n",
       "      <td>Bank</td>\n",
       "      <td>NaN</td>\n",
       "      <td>1.0</td>\n",
       "      <td>4</td>\n",
       "      <td>0</td>\n",
       "    </tr>\n",
       "    <tr>\n",
       "      <th>87</th>\n",
       "      <td>51.5074</td>\n",
       "      <td>-0.1223</td>\n",
       "      <td>Embankment</td>\n",
       "      <td>NaN</td>\n",
       "      <td>1.0</td>\n",
       "      <td>4</td>\n",
       "      <td>0</td>\n",
       "    </tr>\n",
       "    <tr>\n",
       "      <th>156</th>\n",
       "      <td>51.5178</td>\n",
       "      <td>-0.0823</td>\n",
       "      <td>Liverpool Street</td>\n",
       "      <td>Liverpool&lt;br /&gt;Street</td>\n",
       "      <td>1.0</td>\n",
       "      <td>4</td>\n",
       "      <td>1</td>\n",
       "    </tr>\n",
       "    <tr>\n",
       "      <th>167</th>\n",
       "      <td>51.5186</td>\n",
       "      <td>-0.0886</td>\n",
       "      <td>Moorgate</td>\n",
       "      <td>NaN</td>\n",
       "      <td>1.0</td>\n",
       "      <td>4</td>\n",
       "      <td>1</td>\n",
       "    </tr>\n",
       "    <tr>\n",
       "      <th>193</th>\n",
       "      <td>51.5154</td>\n",
       "      <td>-0.1755</td>\n",
       "      <td>Paddington</td>\n",
       "      <td>NaN</td>\n",
       "      <td>1.0</td>\n",
       "      <td>4</td>\n",
       "      <td>1</td>\n",
       "    </tr>\n",
       "    <tr>\n",
       "      <th>279</th>\n",
       "      <td>51.5036</td>\n",
       "      <td>-0.1143</td>\n",
       "      <td>Waterloo</td>\n",
       "      <td>NaN</td>\n",
       "      <td>1.0</td>\n",
       "      <td>4</td>\n",
       "      <td>1</td>\n",
       "    </tr>\n",
       "  </tbody>\n",
       "</table>\n",
       "</div>"
      ],
      "text/plain": [
       "     latitude  longitude                      name  \\\n",
       "id                                                   \n",
       "145   51.5308    -0.1238  King's Cross St. Pancras   \n",
       "11    51.5226    -0.1571              Baker Street   \n",
       "13    51.5133    -0.0886                      Bank   \n",
       "87    51.5074    -0.1223                Embankment   \n",
       "156   51.5178    -0.0823          Liverpool Street   \n",
       "167   51.5186    -0.0886                  Moorgate   \n",
       "193   51.5154    -0.1755                Paddington   \n",
       "279   51.5036    -0.1143                  Waterloo   \n",
       "\n",
       "                      display_name  zone  total_lines  rail  \n",
       "id                                                           \n",
       "145  King's Cross<br />St. Pancras   1.0            6     1  \n",
       "11               Baker<br />Street   1.0            5     0  \n",
       "13                             NaN   1.0            4     0  \n",
       "87                             NaN   1.0            4     0  \n",
       "156          Liverpool<br />Street   1.0            4     1  \n",
       "167                            NaN   1.0            4     1  \n",
       "193                            NaN   1.0            4     1  \n",
       "279                            NaN   1.0            4     1  "
      ]
     },
     "execution_count": 53,
     "metadata": {},
     "output_type": "execute_result"
    }
   ],
   "source": [
    "# get station with highest total_lines\n",
    "data.stations\n",
    "# get the 5 rows from the dataframe where total_lines is highest\n",
    "print(\"Stations with most lines\")\n",
    "data.stations.nlargest(8, \"total_lines\")\n"
   ]
  },
  {
   "cell_type": "code",
   "execution_count": 54,
   "metadata": {},
   "outputs": [
    {
     "name": "stdout",
     "output_type": "stream",
     "text": [
      "Stations in each zone\n"
     ]
    },
    {
     "data": {
      "text/plain": [
       "<Axes: xlabel='zone'>"
      ]
     },
     "execution_count": 54,
     "metadata": {},
     "output_type": "execute_result"
    },
    {
     "data": {
      "image/png": "[encoded data removed]",
      "text/plain": [
       "<Figure size 640x480 with 1 Axes>"
      ]
     },
     "metadata": {},
     "output_type": "display_data"
    }
   ],
   "source": [
    "print(\"Stations in each zone\")\n",
    "data.stations.groupby(\"zone\").size().plot(kind=\"bar\")"
   ]
  },
  {
   "cell_type": "markdown",
   "metadata": {},
   "source": []
  },
  {
   "cell_type": "markdown",
   "metadata": {},
   "source": [
    "Mapping basics"
   ]
  },
  {
   "cell_type": "code",
   "execution_count": 59,
   "metadata": {},
   "outputs": [
    {
     "data": {
      "text/plain": [
       "(492782.46525832143, 565250.7111781755, 153561.8369332109, 203919.02440256177)"
      ]
     },
     "execution_count": 59,
     "metadata": {},
     "output_type": "execute_result"
    },
    {
     "data": {
      "image/png": "[encoded data removed]",
      "text/plain": [
       "<Figure size 640x480 with 1 Axes>"
      ]
     },
     "metadata": {},
     "output_type": "display_data"
    }
   ],
   "source": [
    "from shapely.geometry import Point\n",
    "import geopandas\n",
    "\n",
    "london = geopandas.read_file(os.path.join(\"mapping\", \"london_outline_simple.shp\"))\n",
    "\n",
    "\n",
    "\n",
    "# Assuming data.stations is a DataFrame with 'latitude' and 'longitude' columns\n",
    "geometry = [Point(xy) for xy in zip(data.stations.longitude, data.stations.latitude)]\n",
    "stations_gdf = geopandas.GeoDataFrame(data.stations, geometry=geometry, crs=\"EPSG:4326\")  # WGS84 latitude-longitude projection\n",
    "\n",
    "# Convert stations to same CRS as map\n",
    "stations_gdf = stations_gdf.to_crs(london.crs)\n",
    "\n",
    "# Now plot the stations on the map\n",
    "base = london.plot(color='white', edgecolor='black')\n",
    "stations_gdf.plot(ax=base, marker='o', color='red', markersize=5)\n",
    "# no axis\n",
    "plt.axis('off')"
   ]
  }
 ],
 "metadata": {
  "kernelspec": {
   "display_name": "Python 3",
   "language": "python",
   "name": "python3"
  },
  "language_info": {
   "codemirror_mode": {
    "name": "ipython",
    "version": 3
   },
   "file_extension": ".py",
   "mimetype": "text/x-python",
   "name": "python",
   "nbconvert_exporter": "python",
   "pygments_lexer": "ipython3",
   "version": "3.11.7"
  }
 },
 "nbformat": 4,
 "nbformat_minor": 2
}
